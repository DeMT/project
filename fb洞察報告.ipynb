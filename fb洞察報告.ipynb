{
 "cells": [
  {
   "cell_type": "markdown",
   "metadata": {},
   "source": [
    "### fb洞察報告"
   ]
  },
  {
   "cell_type": "code",
   "execution_count": 5,
   "metadata": {
    "collapsed": false
   },
   "outputs": [
    {
     "name": "stdout",
     "output_type": "stream",
     "text": [
      "高中 1300\n",
      "大專院校 5000\n",
      "研究所 700\n"
     ]
    }
   ],
   "source": [
    "import requests\n",
    "import json\n",
    "import re\n",
    "\n",
    "#查詢的東西\n",
    "q = '蛋糕'\n",
    "gender = 0  #0是所有  1是女生  2是男生 \n",
    "ageMin = 18\n",
    "ageMax = 65\n",
    "\n",
    "#搜尋興趣代碼\n",
    "token1 ='EAAJ6ne6FIaEBAMMurDNFLz6uN0OObjlD7vuGVK8qG39OXkkECT4F2BZANTXZCRjjPpQIXbTZCK57LWaLeMuLSI85xsLPNFC2zcMUl5sfCC2SZCg170GPSs2JLGIcjbifPegZC48qv3YEfvgWbvNaRRGxLRYwh4MWYT95wZBWEP43HV6y9qy64x'\n",
    "\n",
    "token2 = 'EAAI4BG12pyIBADr9QCy544sp3Aw4mO7rsoeWGFkwgrzPSz7nh6toJgcz5HTLFOOlsuKGTJTsrdo3tJuQrlJu6xFZCxynvoEcEaYB5kUCwardY5E9DrvjOevNLJgMFZCvoSH20rZCV3EEZBLpYpTKARK8Rdb8NZCTG4mHuDzXgYwZDZD'\n",
    "\n",
    "header ={\n",
    "#     第二次要加cookie\n",
    "    'cookie':'datr=cBJHVwjXOm5_Osh0rvQc6YCo; sb=fBJHV1Ms1khYMq42AP6tjRmr; c_user=100012327361026; fr=0HkHuiFQCrUa3gAdE.AWV5I_j5mlC1YrMmN9bDQlZrxc4.BXRxJ9.qa.AAA.0.0.AWUpfCrE; xs=239%3ARaTOqSsdTy3-DA%3A2%3A1464275580%3A-1; csm=2; s=Aa49Voim8YlilWXI.BXRxJ9; pl=n; lu=gg30Tum0RRPlDBxa70Ai8xqg; p=-2; presence=EDvF3EtimeF1464276067EuserFA21B12327361026A2EstateFDutF1464276067429CEchFDp_5f1B12327361026F2CC; act=1464276103441%2F2',\n",
    "\n",
    "    'user-agent':'Mozilla/5.0 (Windows NT 6.1; WOW64) AppleWebKit/537.36 (KHTML, like Ge\\\n",
    "    cko) Chrome/50.0.2661.102 Safari/537.36'\n",
    "#     'cookie':'datr=PK89V-vKGGImmWmI3fRsjYkr; pl=n; lu=ghp3lFsIluaK-yQ9GUqmruyA; p=-2; c_user=100000118128391; fr=0cGtaqM22yglvIIUd.AWU3p7GU_letqRpt1Nf3pQxGFe0.BXPa9r.DT.FdG.0.0.AWUxSkJr; xs=80%3AstAqOJytJG5aww%3A2%3A1463660395%3A2139; csm=2; s=Aa4nj8W861KbEvLK.BXPa9r; sb=a689V0FHZSwQyuSmnp_8fZ5I; act=1464270853914%2F6'\n",
    "\n",
    "}\n",
    "\n",
    "url ='https://graph.facebook.com/v2.5/search?_reqName=path%3A%2Fsearch&_reqSrc=AdsD\\\n",
    "aoGraphDataProvider&access_token={}\\\n",
    "&endpoint=%2Fsearch&locale=zh_TW&method=get&pretty=0&q={}&type=adInterest'\n",
    "\n",
    "res = requests.get(url.format(token1, q), headers = header)\n",
    "# print res.text\n",
    "actualName = json.loads(res.text)['data'][0]['name'].encode('utf-8')\n",
    "qid = json.loads(res.text)['data'][0]['id']\n",
    "# print actualName\n",
    "# print qid\n",
    "\n",
    "#每一個metric代表畫面的一個欄位\n",
    "# 9 是指教育程度內資料\n",
    "# 30廣告受眾總人數\n",
    "# 3男女分配\n",
    "# 17生活型態\n",
    "# 27感情狀況\n",
    "# 15職稱\n",
    "\n",
    "\n",
    "metric='9'\n",
    "\n",
    "interest ='&age[0]={}&age[1]={}&country[0]=TW&gender={}&intere\\\n",
    "sts[0]={}'.format(ageMin,ageMax,gender,qid)\n",
    "user1='admarket_id=6040879766077&logger_session_id=39683c0d89f27edd31cc0cd9088ea034e19d8716&__user=100012327361026&__a=1&__dyn=aK4XK4GgPwHz9HpUS2q2K9yaGujy8jXWqxiE9EoUaEOVEoyUnwExeqq1yxZoK3eu4FpHVoG4UdF8uwh9UcU89o-2it1ScwJwj8gCGch8G9x24o&__req=1d'\n",
    "url2='https://www.facebook.com/ads/audience-insights/query/?dpr=1{}&metrics[0]\\\n",
    "={}&{}&__be=0&__pc=PHASED%3ADEFAULT&__rev=2358586'.format(interest,metric,user1)\n",
    "# print url2\n",
    "res2=requests.get(url2 ,headers = header)\n",
    "# print res2.text\n",
    "\n",
    "#找教育程度的人數\n",
    "ch=[u'高中',u'大專院校',u'研究所']  #這邊偷懶一下\n",
    "nu=0\n",
    "pattern = re.compile(r'\"audience\":{\"total\":(\\d+)')\n",
    "for m in re.finditer(pattern,res2.text):\n",
    "    print ch[nu] ,m.group(1)\n",
    "    nu=nu+1\n",
    "\n",
    "\n"
   ]
  }
 ],
 "metadata": {
  "kernelspec": {
   "display_name": "Python 2",
   "language": "python",
   "name": "python2"
  },
  "language_info": {
   "codemirror_mode": {
    "name": "ipython",
    "version": 2
   },
   "file_extension": ".py",
   "mimetype": "text/x-python",
   "name": "python",
   "nbconvert_exporter": "python",
   "pygments_lexer": "ipython2",
   "version": "2.7.11"
  }
 },
 "nbformat": 4,
 "nbformat_minor": 0
}
