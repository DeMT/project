{
 "cells": [
  {
   "cell_type": "code",
   "execution_count": 9,
   "metadata": {
    "collapsed": false
   },
   "outputs": [],
   "source": [
    "import os \n",
    "import random\n",
    "root = 'C:\\Users\\BIG DATA\\Downloads\\Train\\Seiko'\n",
    "test = 'c:\\Users\\BIG DATA\\Downloads\\Test\\Seiko'\n",
    "os.makedirs(test,0755)"
   ]
  },
  {
   "cell_type": "code",
   "execution_count": 10,
   "metadata": {
    "collapsed": false
   },
   "outputs": [
    {
     "name": "stdout",
     "output_type": "stream",
     "text": [
      "C:\\Users\\BIG DATA\\Downloads\\Train\\Seiko\n"
     ]
    }
   ],
   "source": [
    "files = os.walk(root)\n",
    "fileList = []\n",
    "for a in files:\n",
    "    print a[0]\n",
    "    fileList= a[2]\n",
    "   \n"
   ]
  },
  {
   "cell_type": "code",
   "execution_count": 11,
   "metadata": {
    "collapsed": false
   },
   "outputs": [],
   "source": [
    "\n",
    "testList = random.sample(fileList,1000)\n",
    "for i in testList:\n",
    "    os.rename(root+'\\\\'+i,test+'\\\\'+i)"
   ]
  },
  {
   "cell_type": "code",
   "execution_count": 15,
   "metadata": {
    "collapsed": false
   },
   "outputs": [
    {
     "name": "stdout",
     "output_type": "stream",
     "text": [
      "C:\\Users\\Administrator\\AppData\\Roaming\\jupyter\\runtime\\kernel-37bea482-e774-4fec-a86e-793b38561537.json\n"
     ]
    }
   ],
   "source": [
    "import sys\n",
    "print  sys.argv[-1]"
   ]
  }
 ],
 "metadata": {
  "kernelspec": {
   "display_name": "Python 2",
   "language": "python",
   "name": "python2"
  },
  "language_info": {
   "codemirror_mode": {
    "name": "ipython",
    "version": 2
   },
   "file_extension": ".py",
   "mimetype": "text/x-python",
   "name": "python",
   "nbconvert_exporter": "python",
   "pygments_lexer": "ipython2",
   "version": "2.7.11"
  }
 },
 "nbformat": 4,
 "nbformat_minor": 0
}
